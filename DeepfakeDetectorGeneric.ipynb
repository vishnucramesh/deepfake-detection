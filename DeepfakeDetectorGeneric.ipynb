{
  "cells": [
    {
      "cell_type": "markdown",
      "metadata": {
        "id": "view-in-github",
        "colab_type": "text"
      },
      "source": [
        "<a href=\"https://colab.research.google.com/github/vishnucramesh/deepfake-detection/blob/master/DeepfakeDetector.ipynb\" target=\"_parent\"><img src=\"https://colab.research.google.com/assets/colab-badge.svg\" alt=\"Open In Colab\"/></a>"
      ]
    },
    {
      "cell_type": "code",
      "execution_count": null,
      "id": "ba770de6-55e4-4d4c-8d98-c1eaec7d9b99",
      "metadata": {
        "id": "ba770de6-55e4-4d4c-8d98-c1eaec7d9b99",
        "outputId": "4e22c9fc-89f0-46bc-f871-238d1cca10c3"
      },
      "outputs": [
        {
          "name": "stdout",
          "output_type": "stream",
          "text": [
            "Requirement already satisfied: tensorflow in /usr/local/Cellar/jupyterlab/3.3.2/libexec/lib/python3.9/site-packages (2.9.1)\n",
            "Requirement already satisfied: matplotlib in /usr/local/Cellar/jupyterlab/3.3.2/libexec/lib/python3.9/site-packages (3.5.2)\n",
            "Requirement already satisfied: pillow in /usr/local/Cellar/jupyterlab/3.3.2/libexec/lib/python3.9/site-packages (9.2.0)\n",
            "Requirement already satisfied: six>=1.12.0 in /usr/local/Cellar/six/1.16.0_2/lib/python3.9/site-packages (from tensorflow) (1.16.0)\n",
            "Requirement already satisfied: tensorflow-io-gcs-filesystem>=0.23.1 in /usr/local/Cellar/jupyterlab/3.3.2/libexec/lib/python3.9/site-packages (from tensorflow) (0.26.0)\n",
            "Requirement already satisfied: protobuf<3.20,>=3.9.2 in /usr/local/Cellar/jupyterlab/3.3.2/libexec/lib/python3.9/site-packages (from tensorflow) (3.19.4)\n",
            "Requirement already satisfied: packaging in /usr/local/Cellar/jupyterlab/3.3.2/libexec/lib/python3.9/site-packages (from tensorflow) (21.3)\n",
            "Requirement already satisfied: keras<2.10.0,>=2.9.0rc0 in /usr/local/Cellar/jupyterlab/3.3.2/libexec/lib/python3.9/site-packages (from tensorflow) (2.9.0)\n",
            "Requirement already satisfied: typing-extensions>=3.6.6 in /usr/local/Cellar/jupyterlab/3.3.2/libexec/lib/python3.9/site-packages (from tensorflow) (4.3.0)\n",
            "Requirement already satisfied: libclang>=13.0.0 in /usr/local/Cellar/jupyterlab/3.3.2/libexec/lib/python3.9/site-packages (from tensorflow) (14.0.1)\n",
            "Requirement already satisfied: grpcio<2.0,>=1.24.3 in /usr/local/Cellar/jupyterlab/3.3.2/libexec/lib/python3.9/site-packages (from tensorflow) (1.47.0)\n",
            "Requirement already satisfied: gast<=0.4.0,>=0.2.1 in /usr/local/Cellar/jupyterlab/3.3.2/libexec/lib/python3.9/site-packages (from tensorflow) (0.4.0)\n",
            "Requirement already satisfied: h5py>=2.9.0 in /usr/local/Cellar/jupyterlab/3.3.2/libexec/lib/python3.9/site-packages (from tensorflow) (3.7.0)\n",
            "Requirement already satisfied: setuptools in /usr/local/Cellar/jupyterlab/3.3.2/libexec/lib/python3.9/site-packages (from tensorflow) (60.5.0)\n",
            "Requirement already satisfied: termcolor>=1.1.0 in /usr/local/Cellar/jupyterlab/3.3.2/libexec/lib/python3.9/site-packages (from tensorflow) (1.1.0)\n",
            "Requirement already satisfied: flatbuffers<2,>=1.12 in /usr/local/Cellar/jupyterlab/3.3.2/libexec/lib/python3.9/site-packages (from tensorflow) (1.12)\n",
            "Requirement already satisfied: absl-py>=1.0.0 in /usr/local/Cellar/jupyterlab/3.3.2/libexec/lib/python3.9/site-packages (from tensorflow) (1.1.0)\n",
            "Requirement already satisfied: tensorflow-estimator<2.10.0,>=2.9.0rc0 in /usr/local/Cellar/jupyterlab/3.3.2/libexec/lib/python3.9/site-packages (from tensorflow) (2.9.0)\n",
            "Requirement already satisfied: opt-einsum>=2.3.2 in /usr/local/Cellar/jupyterlab/3.3.2/libexec/lib/python3.9/site-packages (from tensorflow) (3.3.0)\n",
            "Requirement already satisfied: keras-preprocessing>=1.1.1 in /usr/local/Cellar/jupyterlab/3.3.2/libexec/lib/python3.9/site-packages (from tensorflow) (1.1.2)\n",
            "Requirement already satisfied: google-pasta>=0.1.1 in /usr/local/Cellar/jupyterlab/3.3.2/libexec/lib/python3.9/site-packages (from tensorflow) (0.2.0)\n",
            "Requirement already satisfied: astunparse>=1.6.0 in /usr/local/Cellar/jupyterlab/3.3.2/libexec/lib/python3.9/site-packages (from tensorflow) (1.6.3)\n",
            "Requirement already satisfied: wrapt>=1.11.0 in /usr/local/Cellar/jupyterlab/3.3.2/libexec/lib/python3.9/site-packages (from tensorflow) (1.14.1)\n",
            "Requirement already satisfied: tensorboard<2.10,>=2.9 in /usr/local/Cellar/jupyterlab/3.3.2/libexec/lib/python3.9/site-packages (from tensorflow) (2.9.1)\n",
            "Requirement already satisfied: numpy>=1.20 in /usr/local/Cellar/jupyterlab/3.3.2/libexec/lib/python3.9/site-packages (from tensorflow) (1.23.0)\n",
            "Requirement already satisfied: python-dateutil>=2.7 in /usr/local/Cellar/jupyterlab/3.3.2/libexec/lib/python3.9/site-packages (from matplotlib) (2.8.2)\n",
            "Requirement already satisfied: fonttools>=4.22.0 in /usr/local/Cellar/jupyterlab/3.3.2/libexec/lib/python3.9/site-packages (from matplotlib) (4.33.3)\n",
            "Requirement already satisfied: pyparsing>=2.2.1 in /usr/local/Cellar/jupyterlab/3.3.2/libexec/lib/python3.9/site-packages (from matplotlib) (3.0.7)\n",
            "Requirement already satisfied: cycler>=0.10 in /usr/local/Cellar/jupyterlab/3.3.2/libexec/lib/python3.9/site-packages (from matplotlib) (0.11.0)\n",
            "Requirement already satisfied: kiwisolver>=1.0.1 in /usr/local/Cellar/jupyterlab/3.3.2/libexec/lib/python3.9/site-packages (from matplotlib) (1.4.3)\n",
            "Requirement already satisfied: wheel<1.0,>=0.23.0 in /usr/local/lib/python3.9/site-packages (from astunparse>=1.6.0->tensorflow) (0.37.1)\n",
            "Requirement already satisfied: google-auth-oauthlib<0.5,>=0.4.1 in /usr/local/Cellar/jupyterlab/3.3.2/libexec/lib/python3.9/site-packages (from tensorboard<2.10,>=2.9->tensorflow) (0.4.6)\n",
            "Requirement already satisfied: google-auth<3,>=1.6.3 in /usr/local/Cellar/jupyterlab/3.3.2/libexec/lib/python3.9/site-packages (from tensorboard<2.10,>=2.9->tensorflow) (2.9.0)\n",
            "Requirement already satisfied: requests<3,>=2.21.0 in /usr/local/Cellar/jupyterlab/3.3.2/libexec/lib/python3.9/site-packages (from tensorboard<2.10,>=2.9->tensorflow) (2.27.1)\n",
            "Requirement already satisfied: werkzeug>=1.0.1 in /usr/local/Cellar/jupyterlab/3.3.2/libexec/lib/python3.9/site-packages (from tensorboard<2.10,>=2.9->tensorflow) (2.1.2)\n",
            "Requirement already satisfied: tensorboard-plugin-wit>=1.6.0 in /usr/local/Cellar/jupyterlab/3.3.2/libexec/lib/python3.9/site-packages (from tensorboard<2.10,>=2.9->tensorflow) (1.8.1)\n",
            "Requirement already satisfied: markdown>=2.6.8 in /usr/local/Cellar/jupyterlab/3.3.2/libexec/lib/python3.9/site-packages (from tensorboard<2.10,>=2.9->tensorflow) (3.3.7)\n",
            "Requirement already satisfied: tensorboard-data-server<0.7.0,>=0.6.0 in /usr/local/Cellar/jupyterlab/3.3.2/libexec/lib/python3.9/site-packages (from tensorboard<2.10,>=2.9->tensorflow) (0.6.1)\n",
            "Requirement already satisfied: cachetools<6.0,>=2.0.0 in /usr/local/Cellar/jupyterlab/3.3.2/libexec/lib/python3.9/site-packages (from google-auth<3,>=1.6.3->tensorboard<2.10,>=2.9->tensorflow) (5.2.0)\n",
            "Requirement already satisfied: rsa<5,>=3.1.4 in /usr/local/Cellar/jupyterlab/3.3.2/libexec/lib/python3.9/site-packages (from google-auth<3,>=1.6.3->tensorboard<2.10,>=2.9->tensorflow) (4.8)\n",
            "Requirement already satisfied: pyasn1-modules>=0.2.1 in /usr/local/Cellar/jupyterlab/3.3.2/libexec/lib/python3.9/site-packages (from google-auth<3,>=1.6.3->tensorboard<2.10,>=2.9->tensorflow) (0.2.8)\n",
            "Requirement already satisfied: requests-oauthlib>=0.7.0 in /usr/local/Cellar/jupyterlab/3.3.2/libexec/lib/python3.9/site-packages (from google-auth-oauthlib<0.5,>=0.4.1->tensorboard<2.10,>=2.9->tensorflow) (1.3.1)\n",
            "Requirement already satisfied: importlib-metadata>=4.4 in /usr/local/Cellar/jupyterlab/3.3.2/libexec/lib/python3.9/site-packages (from markdown>=2.6.8->tensorboard<2.10,>=2.9->tensorflow) (4.12.0)\n",
            "Requirement already satisfied: urllib3<1.27,>=1.21.1 in /usr/local/Cellar/jupyterlab/3.3.2/libexec/lib/python3.9/site-packages (from requests<3,>=2.21.0->tensorboard<2.10,>=2.9->tensorflow) (1.26.9)\n",
            "Requirement already satisfied: certifi>=2017.4.17 in /usr/local/Cellar/jupyterlab/3.3.2/libexec/lib/python3.9/site-packages (from requests<3,>=2.21.0->tensorboard<2.10,>=2.9->tensorflow) (2021.10.8)\n",
            "Requirement already satisfied: charset_normalizer~=2.0.0 in /usr/local/Cellar/jupyterlab/3.3.2/libexec/lib/python3.9/site-packages (from requests<3,>=2.21.0->tensorboard<2.10,>=2.9->tensorflow) (2.0.12)\n",
            "Requirement already satisfied: idna<4,>=2.5 in /usr/local/Cellar/jupyterlab/3.3.2/libexec/lib/python3.9/site-packages (from requests<3,>=2.21.0->tensorboard<2.10,>=2.9->tensorflow) (3.3)\n",
            "Requirement already satisfied: zipp>=0.5 in /usr/local/Cellar/jupyterlab/3.3.2/libexec/lib/python3.9/site-packages (from importlib-metadata>=4.4->markdown>=2.6.8->tensorboard<2.10,>=2.9->tensorflow) (3.8.0)\n",
            "Requirement already satisfied: pyasn1<0.5.0,>=0.4.6 in /usr/local/Cellar/jupyterlab/3.3.2/libexec/lib/python3.9/site-packages (from pyasn1-modules>=0.2.1->google-auth<3,>=1.6.3->tensorboard<2.10,>=2.9->tensorflow) (0.4.8)\n",
            "Requirement already satisfied: oauthlib>=3.0.0 in /usr/local/Cellar/jupyterlab/3.3.2/libexec/lib/python3.9/site-packages (from requests-oauthlib>=0.7.0->google-auth-oauthlib<0.5,>=0.4.1->tensorboard<2.10,>=2.9->tensorflow) (3.2.0)\n",
            "\u001b[33mWARNING: You are using pip version 21.3.1; however, version 22.1.2 is available.\n",
            "You should consider upgrading via the '/usr/local/Cellar/jupyterlab/3.3.2/libexec/bin/python3.9 -m pip install --upgrade pip' command.\u001b[0m\n",
            "Note: you may need to restart the kernel to use updated packages.\n"
          ]
        }
      ],
      "source": [
        "pip install tensorflow matplotlib pillow sklearn"
      ]
    },
    {
      "cell_type": "code",
      "execution_count": null,
      "id": "fae92eb5-13d4-4d11-883c-f7a58dd98f5d",
      "metadata": {
        "id": "fae92eb5-13d4-4d11-883c-f7a58dd98f5d"
      },
      "outputs": [],
      "source": [
        "%matplotlib inline\n",
        "import matplotlib.pyplot as plt\n",
        "\n",
        "from tensorflow.keras.models import Sequential, Model\n",
        "from tensorflow.keras.layers import Dense, Flatten, Dropout, Activation, Convolution2D, MaxPooling2D, \\\n",
        "                                    BatchNormalization, BatchNormalization, Conv2D, GlobalAveragePooling2D\n",
        "from tensorflow.keras.preprocessing.image import ImageDataGenerator\n",
        "from tensorflow.keras.optimizers import Adam\n",
        "from tensorflow.keras.callbacks import EarlyStopping, ModelCheckpoint"
      ]
    },
    {
      "cell_type": "code",
      "execution_count": null,
      "id": "7ca72582-b4ce-4584-8d3d-83b4c3ab1c30",
      "metadata": {
        "id": "7ca72582-b4ce-4584-8d3d-83b4c3ab1c30",
        "outputId": "272bd7aa-4520-4ec0-ac2c-7084ee94ad1b"
      },
      "outputs": [
        {
          "name": "stdout",
          "output_type": "stream",
          "text": [
            "Found 100000 images belonging to 2 classes.\n",
            "Found 20000 images belonging to 2 classes.\n",
            "Found 20000 images belonging to 2 classes.\n"
          ]
        }
      ],
      "source": [
        "base_path = 'Documents/archive/real_vs_fake/real-vs-fake/'\n",
        "image_gen = ImageDataGenerator(rescale=1./255.)\n",
        "batch_size = 64\n",
        "train_flow = image_gen.flow_from_directory(\n",
        "    base_path + 'train/',\n",
        "    target_size=(224, 224),\n",
        "    batch_size=batch_size,\n",
        "    class_mode='binary'\n",
        ")\n",
        "valid_flow = image_gen.flow_from_directory(\n",
        "    base_path + 'valid/',\n",
        "    target_size=(224, 224),\n",
        "    batch_size=batch_size,\n",
        "    class_mode='binary'\n",
        ")\n",
        "test_flow = image_gen.flow_from_directory(\n",
        "    base_path + 'test/',\n",
        "    target_size=(224, 224),\n",
        "    batch_size=1,\n",
        "    shuffle=False,\n",
        "    class_mode='binary'\n",
        ")"
      ]
    },
    {
      "cell_type": "code",
      "execution_count": null,
      "id": "7651ff48-449a-4193-96d6-08beb0edad8b",
      "metadata": {
        "id": "7651ff48-449a-4193-96d6-08beb0edad8b",
        "outputId": "f8a1e849-1c3f-4b23-f882-38366d84c1e1"
      },
      "outputs": [
        {
          "name": "stderr",
          "output_type": "stream",
          "text": [
            "2022-07-03 21:04:21.260512: I tensorflow/core/platform/cpu_feature_guard.cc:193] This TensorFlow binary is optimized with oneAPI Deep Neural Network Library (oneDNN) to use the following CPU instructions in performance-critical operations:  AVX2 FMA\n",
            "To enable them in other operations, rebuild TensorFlow with the appropriate compiler flags.\n"
          ]
        },
        {
          "name": "stdout",
          "output_type": "stream",
          "text": [
            "Model: \"sequential\"\n",
            "_________________________________________________________________\n",
            " Layer (type)                Output Shape              Param #   \n",
            "=================================================================\n",
            " conv2d (Conv2D)             (None, 222, 222, 16)      448       \n",
            "                                                                 \n",
            " max_pooling2d (MaxPooling2D  (None, 111, 111, 16)     0         \n",
            " )                                                               \n",
            "                                                                 \n",
            " batch_normalization (BatchN  (None, 111, 111, 16)     64        \n",
            " ormalization)                                                   \n",
            "                                                                 \n",
            " dropout (Dropout)           (None, 111, 111, 16)      0         \n",
            "                                                                 \n",
            " conv2d_1 (Conv2D)           (None, 109, 109, 32)      4640      \n",
            "                                                                 \n",
            " max_pooling2d_1 (MaxPooling  (None, 54, 54, 32)       0         \n",
            " 2D)                                                             \n",
            "                                                                 \n",
            " batch_normalization_1 (Batc  (None, 54, 54, 32)       128       \n",
            " hNormalization)                                                 \n",
            "                                                                 \n",
            " dropout_1 (Dropout)         (None, 54, 54, 32)        0         \n",
            "                                                                 \n",
            " conv2d_2 (Conv2D)           (None, 52, 52, 64)        18496     \n",
            "                                                                 \n",
            " max_pooling2d_2 (MaxPooling  (None, 26, 26, 64)       0         \n",
            " 2D)                                                             \n",
            "                                                                 \n",
            " batch_normalization_2 (Batc  (None, 26, 26, 64)       256       \n",
            " hNormalization)                                                 \n",
            "                                                                 \n",
            " dropout_2 (Dropout)         (None, 26, 26, 64)        0         \n",
            "                                                                 \n",
            " conv2d_3 (Conv2D)           (None, 24, 24, 128)       73856     \n",
            "                                                                 \n",
            " max_pooling2d_3 (MaxPooling  (None, 12, 12, 128)      0         \n",
            " 2D)                                                             \n",
            "                                                                 \n",
            " batch_normalization_3 (Batc  (None, 12, 12, 128)      512       \n",
            " hNormalization)                                                 \n",
            "                                                                 \n",
            " dropout_3 (Dropout)         (None, 12, 12, 128)       0         \n",
            "                                                                 \n",
            " conv2d_4 (Conv2D)           (None, 10, 10, 256)       295168    \n",
            "                                                                 \n",
            " max_pooling2d_4 (MaxPooling  (None, 5, 5, 256)        0         \n",
            " 2D)                                                             \n",
            "                                                                 \n",
            " batch_normalization_4 (Batc  (None, 5, 5, 256)        1024      \n",
            " hNormalization)                                                 \n",
            "                                                                 \n",
            " dropout_4 (Dropout)         (None, 5, 5, 256)         0         \n",
            "                                                                 \n",
            " conv2d_5 (Conv2D)           (None, 3, 3, 512)         1180160   \n",
            "                                                                 \n",
            " max_pooling2d_5 (MaxPooling  (None, 1, 1, 512)        0         \n",
            " 2D)                                                             \n",
            "                                                                 \n",
            " batch_normalization_5 (Batc  (None, 1, 1, 512)        2048      \n",
            " hNormalization)                                                 \n",
            "                                                                 \n",
            " dropout_5 (Dropout)         (None, 1, 1, 512)         0         \n",
            "                                                                 \n",
            " global_average_pooling2d (G  (None, 512)              0         \n",
            " lobalAveragePooling2D)                                          \n",
            "                                                                 \n",
            " dense (Dense)               (None, 512)               262656    \n",
            "                                                                 \n",
            " batch_normalization_6 (Batc  (None, 512)              2048      \n",
            " hNormalization)                                                 \n",
            "                                                                 \n",
            " dense_1 (Dense)             (None, 1)                 513       \n",
            "                                                                 \n",
            "=================================================================\n",
            "Total params: 1,842,017\n",
            "Trainable params: 1,838,977\n",
            "Non-trainable params: 3,040\n",
            "_________________________________________________________________\n"
          ]
        }
      ],
      "source": [
        "input_shape = ((224,224,3))\n",
        "\n",
        "model = Sequential([\n",
        "  Conv2D(16, kernel_size=3, activation='relu', input_shape=input_shape),\n",
        "  MaxPooling2D(pool_size=2),\n",
        "  BatchNormalization(),\n",
        "  Dropout(0.2),\n",
        "\n",
        "  Conv2D(32, kernel_size=3, activation='relu'),\n",
        "  MaxPooling2D(pool_size=2),\n",
        "  BatchNormalization(),\n",
        "  Dropout(0.2),\n",
        "\n",
        "  Conv2D(64, kernel_size=3, activation='relu'),\n",
        "  MaxPooling2D(pool_size=2),\n",
        "  BatchNormalization(),\n",
        "  Dropout(0.2),\n",
        "\n",
        "  Conv2D(128, kernel_size=3, activation='relu'),\n",
        "  MaxPooling2D(pool_size=2),\n",
        "  BatchNormalization(),\n",
        "  Dropout(0.2),\n",
        "\n",
        "  Conv2D(256, kernel_size=3, activation='relu'),\n",
        "  MaxPooling2D(pool_size=2),\n",
        "  BatchNormalization(),\n",
        "  Dropout(0.2),\n",
        "\n",
        "  Conv2D(512, kernel_size=3, activation='relu'),\n",
        "  MaxPooling2D(pool_size=2),\n",
        "  BatchNormalization(),\n",
        "  Dropout(0.2),\n",
        "\n",
        "  GlobalAveragePooling2D(),\n",
        "  Dense(512, activation='relu'),\n",
        "  BatchNormalization(),\n",
        "  Dense(1, activation='sigmoid'),\n",
        "\n",
        "])\n",
        "\n",
        "model.build(input_shape)\n",
        "\n",
        "model.summary()"
      ]
    },
    {
      "cell_type": "code",
      "execution_count": null,
      "id": "6cb42ba5-a766-4013-a260-3c9386b590e1",
      "metadata": {
        "id": "6cb42ba5-a766-4013-a260-3c9386b590e1"
      },
      "outputs": [],
      "source": [
        "model.compile(loss='binary_crossentropy',optimizer=Adam(0.0001), metrics=['accuracy'])"
      ]
    },
    {
      "cell_type": "code",
      "execution_count": null,
      "id": "daf180a4-31b5-4122-b388-ad5395f1a85e",
      "metadata": {
        "id": "daf180a4-31b5-4122-b388-ad5395f1a85e",
        "outputId": "096f96e3-6df8-4157-932c-f28f6ef21075"
      },
      "outputs": [
        {
          "name": "stdout",
          "output_type": "stream",
          "text": [
            "Epoch 1/10\n",
            "500/500 [==============================] - ETA: 0s - loss: 0.6656 - accuracy: 0.6377\n",
            "Epoch 1: val_loss improved from inf to 1.42157, saving model to model.hdf5\n",
            "500/500 [==============================] - 994s 2s/step - loss: 0.6656 - accuracy: 0.6377 - val_loss: 1.4216 - val_accuracy: 0.5048\n",
            "Epoch 2/10\n",
            "500/500 [==============================] - ETA: 0s - loss: 0.5803 - accuracy: 0.6995\n",
            "Epoch 2: val_loss improved from 1.42157 to 1.10160, saving model to model.hdf5\n",
            "500/500 [==============================] - 998s 2s/step - loss: 0.5803 - accuracy: 0.6995 - val_loss: 1.1016 - val_accuracy: 0.5276\n",
            "Epoch 3/10\n",
            "500/500 [==============================] - ETA: 0s - loss: 0.5303 - accuracy: 0.7362\n",
            "Epoch 3: val_loss improved from 1.10160 to 0.91818, saving model to model.hdf5\n",
            "500/500 [==============================] - 987s 2s/step - loss: 0.5303 - accuracy: 0.7362 - val_loss: 0.9182 - val_accuracy: 0.5859\n",
            "Epoch 4/10\n",
            "500/500 [==============================] - ETA: 0s - loss: 0.4977 - accuracy: 0.7567\n",
            "Epoch 4: val_loss improved from 0.91818 to 0.80131, saving model to model.hdf5\n",
            "500/500 [==============================] - 965s 2s/step - loss: 0.4977 - accuracy: 0.7567 - val_loss: 0.8013 - val_accuracy: 0.6308\n",
            "Epoch 5/10\n",
            "500/500 [==============================] - ETA: 0s - loss: 0.4685 - accuracy: 0.7778\n",
            "Epoch 5: val_loss did not improve from 0.80131\n",
            "500/500 [==============================] - 964s 2s/step - loss: 0.4685 - accuracy: 0.7778 - val_loss: 0.9765 - val_accuracy: 0.6052\n",
            "Epoch 6/10\n",
            "500/500 [==============================] - ETA: 0s - loss: 0.4287 - accuracy: 0.8013\n",
            "Epoch 6: val_loss did not improve from 0.80131\n",
            "500/500 [==============================] - 947s 2s/step - loss: 0.4287 - accuracy: 0.8013 - val_loss: 0.9076 - val_accuracy: 0.6264\n",
            "Epoch 7/10\n",
            "500/500 [==============================] - ETA: 0s - loss: 0.4004 - accuracy: 0.8169\n",
            "Epoch 7: val_loss improved from 0.80131 to 0.72751, saving model to model.hdf5\n",
            "500/500 [==============================] - 938s 2s/step - loss: 0.4004 - accuracy: 0.8169 - val_loss: 0.7275 - val_accuracy: 0.6905\n",
            "Epoch 8/10\n",
            "500/500 [==============================] - ETA: 0s - loss: 0.3818 - accuracy: 0.8256\n",
            "Epoch 8: val_loss did not improve from 0.72751\n",
            "500/500 [==============================] - 938s 2s/step - loss: 0.3818 - accuracy: 0.8256 - val_loss: 0.8701 - val_accuracy: 0.6567\n",
            "Epoch 9/10\n",
            "500/500 [==============================] - ETA: 0s - loss: 0.3574 - accuracy: 0.8419\n",
            "Epoch 9: val_loss improved from 0.72751 to 0.60636, saving model to model.hdf5\n",
            "500/500 [==============================] - 962s 2s/step - loss: 0.3574 - accuracy: 0.8419 - val_loss: 0.6064 - val_accuracy: 0.7320\n",
            "Epoch 10/10\n",
            "500/500 [==============================] - ETA: 0s - loss: 0.3416 - accuracy: 0.8496\n",
            "Epoch 10: val_loss did not improve from 0.60636\n",
            "500/500 [==============================] - 946s 2s/step - loss: 0.3416 - accuracy: 0.8496 - val_loss: 0.7976 - val_accuracy: 0.6909\n"
          ]
        }
      ],
      "source": [
        "earlystop_callback = EarlyStopping(monitor='loss', patience=3)\n",
        "checkpoint_callback = ModelCheckpoint(filepath=f\"model.hdf5\", \n",
        "                             monitor='val_loss',\n",
        "                             verbose=1, \n",
        "                             save_best_only=True,\n",
        "                             mode='min')\n",
        "\n",
        "history = model.fit(\n",
        "      train_flow,\n",
        "      epochs=10,\n",
        "      steps_per_epoch = 500,\n",
        "      validation_data = valid_flow,\n",
        "      validation_steps = 78,\n",
        "      callbacks=[earlystop_callback, checkpoint_callback]\n",
        ")"
      ]
    },
    {
      "cell_type": "code",
      "execution_count": null,
      "id": "9fd36fe3-67b8-4960-8273-a1358f53e577",
      "metadata": {
        "id": "9fd36fe3-67b8-4960-8273-a1358f53e577"
      },
      "outputs": [],
      "source": [
        "def plot_loss(epochs, loss, val_loss):\n",
        "    plt.plot(epochs, loss, 'bo', label='Training Loss')\n",
        "    plt.plot(epochs, val_loss, 'orange', label = 'Validation Loss')\n",
        "    plt.title('Training and Validation Loss')\n",
        "    plt.legend()\n",
        "    plt.show()\n",
        "\n",
        "def plot_accuracy(epochs, acc, val_acc):\n",
        "    plt.plot(epochs, acc, 'bo', label='Training accuracy')\n",
        "    plt.plot(epochs, val_acc, 'orange', label = 'Validation accuracy')\n",
        "    plt.title('Training and Validation Accuracy')\n",
        "    plt.legend()\n",
        "    plt.show()"
      ]
    },
    {
      "cell_type": "code",
      "execution_count": null,
      "id": "22b83dc9-66ac-42f8-bdf4-f0df49955d00",
      "metadata": {
        "id": "22b83dc9-66ac-42f8-bdf4-f0df49955d00"
      },
      "outputs": [],
      "source": [
        "acc = history.history['accuracy']\n",
        "val_acc = history.history['val_accuracy']\n",
        "loss = history.history['loss']\n",
        "val_loss = history.history['val_loss']"
      ]
    },
    {
      "cell_type": "code",
      "execution_count": null,
      "id": "4120bdfb-b4be-4c30-a015-bf167aa15f5e",
      "metadata": {
        "id": "4120bdfb-b4be-4c30-a015-bf167aa15f5e",
        "outputId": "2abf003c-f63c-4993-aa06-6ced64d52ac9"
      },
      "outputs": [
        {
          "data": {
            "image/png": "[encoded data removed]",
            "text/plain": [
              "<Figure size 432x288 with 1 Axes>"
            ]
          },
          "metadata": {
            "needs_background": "light"
          },
          "output_type": "display_data"
        },
        {
          "data": {
            "image/png": "[encoded data removed]",
            "text/plain": [
              "<Figure size 432x288 with 1 Axes>"
            ]
          },
          "metadata": {
            "needs_background": "light"
          },
          "output_type": "display_data"
        }
      ],
      "source": [
        "plot_loss(range(1, len(loss) + 1), loss, val_loss)\n",
        "plot_accuracy(range(1, len(loss) + 1), acc, val_acc)"
      ]
    },
    {
      "cell_type": "code",
      "execution_count": null,
      "id": "60f9fc6a-f44f-49d1-aecb-a9aa279dceb4",
      "metadata": {
        "id": "60f9fc6a-f44f-49d1-aecb-a9aa279dceb4",
        "outputId": "dfbddac1-ba28-40a7-b613-558461e67182"
      },
      "outputs": [
        {
          "name": "stdout",
          "output_type": "stream",
          "text": [
            "20000/20000 [==============================] - 254s 13ms/step\n"
          ]
        }
      ],
      "source": [
        "y_pred = model.predict(test_flow)\n",
        "y_test = test_flow.classes"
      ]
    },
    {
      "cell_type": "code",
      "execution_count": null,
      "id": "976fb92d-39a7-4eb1-8ef4-59f5f9be1629",
      "metadata": {
        "id": "976fb92d-39a7-4eb1-8ef4-59f5f9be1629",
        "outputId": "795febce-9214-4718-86d6-1155034588f7"
      },
      "outputs": [
        {
          "name": "stdout",
          "output_type": "stream",
          "text": [
            "ROC AUC Score: 0.9254064849999999\n",
            "AP Score: 0.9159635546686334\n",
            "              precision    recall  f1-score   support\n",
            "\n",
            "           0       0.62      0.98      0.76     10000\n",
            "           1       0.95      0.41      0.57     10000\n",
            "\n",
            "    accuracy                           0.69     20000\n",
            "   macro avg       0.79      0.69      0.67     20000\n",
            "weighted avg       0.79      0.69      0.67     20000\n",
            "\n"
          ]
        }
      ],
      "source": [
        "from sklearn import metrics\n",
        "\n",
        "print(\"ROC AUC Score:\", metrics.roc_auc_score(y_test, y_pred))\n",
        "\n",
        "print(\"AP Score:\", metrics.average_precision_score(y_test, y_pred))\n",
        "\n",
        "print(metrics.classification_report(y_test, y_pred > 0.5))\n"
      ]
    }
  ],
  "metadata": {
    "kernelspec": {
      "display_name": "Python 3 (ipykernel)",
      "language": "python",
      "name": "python3"
    },
    "language_info": {
      "codemirror_mode": {
        "name": "ipython",
        "version": 3
      },
      "file_extension": ".py",
      "mimetype": "text/x-python",
      "name": "python",
      "nbconvert_exporter": "python",
      "pygments_lexer": "ipython3",
      "version": "3.9.13"
    },
    "colab": {
      "provenance": [],
      "include_colab_link": true
    }
  },
  "nbformat": 4,
  "nbformat_minor": 5
}
