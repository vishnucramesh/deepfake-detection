{
  "cells": [
    {
      "cell_type": "markdown",
      "metadata": {
        "id": "view-in-github",
        "colab_type": "text"
      },
      "source": [
        "<a href=\"https://colab.research.google.com/github/vishnucramesh/deepfake-detection/blob/master/DeepfakeDetector_VGG_TF.ipynb\" target=\"_parent\"><img src=\"https://colab.research.google.com/assets/colab-badge.svg\" alt=\"Open In Colab\"/></a>"
      ]
    },
    {
      "cell_type": "code",
      "source": [
        "\"\"\"\n",
        "Step 1: Upload the API key file provided by kaggle to a location in google drive\n",
        "Step 2: Set the config file as the environemnt variable\n",
        "Step 5: Change working directory\n",
        "Step 3: Get kaggle download link from kaggle \n",
        "\"\"\"\n",
        "\n",
        "import os\n",
        "\n",
        "!pip install kaggle\n",
        "\n",
        "\n",
        "PATH = '/Users/vishnu/Work/uni/VISOPE/deepfake-image-detector/dataset'\n",
        "\n",
        "# set kaggle config file directory\n",
        "os.environ['KAGGLE_CONFIG_DIR'] = PATH\n",
        "\n",
        "%cd $PATH\n",
        "\n",
        "!kaggle datasets download -d xhlulu/140k-real-and-fake-faces --unzip"
      ],
      "metadata": {
        "id": "25yGkrDNg2KP"
      },
      "id": "25yGkrDNg2KP",
      "execution_count": null,
      "outputs": []
    },
    {
      "cell_type": "code",
      "execution_count": null,
      "id": "ba770de6-55e4-4d4c-8d98-c1eaec7d9b99",
      "metadata": {
        "id": "ba770de6-55e4-4d4c-8d98-c1eaec7d9b99"
      },
      "outputs": [],
      "source": [
        "pip install tensorflow matplotlib pillow sklearn git+https://github.com/yaledhlab/vggface.git\n"
      ]
    },
    {
      "cell_type": "code",
      "execution_count": null,
      "id": "fae92eb5-13d4-4d11-883c-f7a58dd98f5d",
      "metadata": {
        "id": "fae92eb5-13d4-4d11-883c-f7a58dd98f5d"
      },
      "outputs": [],
      "source": [
        "%matplotlib inline\n",
        "import matplotlib.pyplot as plt\n",
        "import tensorflow\n",
        "\n",
        "\n",
        "from tensorflow.keras.models import Sequential, Model\n",
        "from tensorflow.keras.layers import Dense, Flatten, Dropout, Activation, Convolution2D, MaxPooling2D, \\\n",
        "                                    BatchNormalization, BatchNormalization, Conv2D, GlobalAveragePooling2D\n",
        "from tensorflow.keras.preprocessing.image import ImageDataGenerator\n",
        "from tensorflow.keras.optimizers import Adam\n",
        "from tensorflow.keras.callbacks import EarlyStopping, ModelCheckpoint"
      ]
    },
    {
      "cell_type": "code",
      "execution_count": null,
      "id": "7ca72582-b4ce-4584-8d3d-83b4c3ab1c30",
      "metadata": {
        "id": "7ca72582-b4ce-4584-8d3d-83b4c3ab1c30"
      },
      "outputs": [],
      "source": [
        "base_path = '/Users/vishnu/Work/uni/VISOPE/deepfake-image-detector/dataset/real_vs_fake/real-vs-fake/'\n",
        "image_gen = ImageDataGenerator(rescale=1./255.)\n",
        "batch_size = 64\n",
        "train_flow = image_gen.flow_from_directory(\n",
        "    base_path + 'train/',\n",
        "    target_size=(224, 224),\n",
        "    batch_size=batch_size,\n",
        "    class_mode='binary'\n",
        ")\n",
        "valid_flow = image_gen.flow_from_directory(\n",
        "    base_path + 'valid/',\n",
        "    target_size=(224, 224),\n",
        "    batch_size=batch_size,\n",
        "    class_mode='binary'\n",
        ")\n",
        "test_flow = image_gen.flow_from_directory(\n",
        "    base_path + 'test/',\n",
        "    target_size=(224, 224),\n",
        "    batch_size=1,\n",
        "    shuffle=False,\n",
        "    class_mode='binary'\n",
        ")"
      ]
    },
    {
      "cell_type": "code",
      "source": [
        "import matplotlib.pyplot as plt\n",
        "\n",
        "plt.figure(figsize=(10, 10))\n",
        "for images, labels in train_flow:\n",
        "    for i in range(9):\n",
        "        ax = plt.subplot(3, 3, i + 1)\n",
        "        plt.imshow(images[i])\n",
        "        plt.title(int(labels[i]))\n",
        "        plt.axis(\"off\")\n",
        "    break"
      ],
      "metadata": {
        "id": "RVEkHySYjZPf"
      },
      "id": "RVEkHySYjZPf",
      "execution_count": null,
      "outputs": []
    },
    {
      "cell_type": "code",
      "execution_count": null,
      "id": "7651ff48-449a-4193-96d6-08beb0edad8b",
      "metadata": {
        "id": "7651ff48-449a-4193-96d6-08beb0edad8b"
      },
      "outputs": [],
      "source": [
        "input_shape = (224,224,3)\n",
        "activation = 'relu'\n",
        "padding = 'same'\n",
        "droprate = 0.1\n",
        "epsilon=0.001\n",
        "\n",
        "vgg = tf.keras.applications.vgg16.VGG16(weights='imagenet', include_top=False, input_shape=input_shape) \n",
        "\n",
        "x = Flatten()(vgg.output) #Output obtained on vgg19 is now flattened. \n",
        "prediction = Dense(1, activation='softmax')(x) # We have 2 classes\n",
        "\n",
        "#Creating model object \n",
        "model = Model(inputs=vgg.input, outputs=prediction)\n",
        "\n",
        "model.build(input_shape)\n",
        "\n",
        "model.summary()"
      ]
    },
    {
      "cell_type": "code",
      "source": [
        "# for layer in model.layers:\n",
        "#   print(layer.name)\n",
        "#   layer.trainable = False"
      ],
      "metadata": {
        "id": "ayS_4dzCKm0G"
      },
      "id": "ayS_4dzCKm0G",
      "execution_count": null,
      "outputs": []
    },
    {
      "cell_type": "code",
      "source": [
        "# x = Flatten()(model.output) #Output obtained on vgg19 is now flattened. \n",
        "# prediction = Dense(2, activation='softmax')(x)"
      ],
      "metadata": {
        "id": "Re_jF6knKtb-"
      },
      "id": "Re_jF6knKtb-",
      "execution_count": null,
      "outputs": []
    },
    {
      "cell_type": "code",
      "execution_count": null,
      "id": "6cb42ba5-a766-4013-a260-3c9386b590e1",
      "metadata": {
        "id": "6cb42ba5-a766-4013-a260-3c9386b590e1"
      },
      "outputs": [],
      "source": [
        "model.compile(loss='binary_crossentropy',optimizer=Adam(0.0001), metrics=['accuracy'])"
      ]
    },
    {
      "cell_type": "code",
      "execution_count": null,
      "id": "daf180a4-31b5-4122-b388-ad5395f1a85e",
      "metadata": {
        "id": "daf180a4-31b5-4122-b388-ad5395f1a85e"
      },
      "outputs": [],
      "source": [
        "steps_per_epoch = 2\n",
        "validation_steps = 1\n",
        "\n",
        "earlystop_callback = EarlyStopping(monitor='loss', patience=3)\n",
        "checkpoint_callback = ModelCheckpoint(filepath=f\"model.hdf5\", \n",
        "                             monitor='val_loss',\n",
        "                             verbose=1, \n",
        "                             save_best_only=True,\n",
        "                             mode='min')\n",
        "\n",
        "history = model.fit(\n",
        "      train_flow,\n",
        "      epochs=10,\n",
        "      steps_per_epoch = steps_per_epoch,\n",
        "      validation_data = valid_flow,\n",
        "      validation_steps = validation_steps,\n",
        "      callbacks=[earlystop_callback, checkpoint_callback]\n",
        ")"
      ]
    },
    {
      "cell_type": "code",
      "execution_count": null,
      "id": "9fd36fe3-67b8-4960-8273-a1358f53e577",
      "metadata": {
        "id": "9fd36fe3-67b8-4960-8273-a1358f53e577"
      },
      "outputs": [],
      "source": [
        "def plot_loss(epochs, loss, val_loss):\n",
        "    plt.plot(epochs, loss, 'bo', label='Training Loss')\n",
        "    plt.plot(epochs, val_loss, 'orange', label = 'Validation Loss')\n",
        "    plt.title('Training and Validation Loss')\n",
        "    plt.legend()\n",
        "    plt.show()\n",
        "\n",
        "def plot_accuracy(epochs, acc, val_acc):\n",
        "    plt.plot(epochs, acc, 'bo', label='Training accuracy')\n",
        "    plt.plot(epochs, val_acc, 'orange', label = 'Validation accuracy')\n",
        "    plt.title('Training and Validation Accuracy')\n",
        "    plt.legend()\n",
        "    plt.show()"
      ]
    },
    {
      "cell_type": "code",
      "execution_count": null,
      "id": "22b83dc9-66ac-42f8-bdf4-f0df49955d00",
      "metadata": {
        "id": "22b83dc9-66ac-42f8-bdf4-f0df49955d00"
      },
      "outputs": [],
      "source": [
        "acc = history.history['accuracy']\n",
        "val_acc = history.history['val_accuracy']\n",
        "loss = history.history['loss']\n",
        "val_loss = history.history['val_loss']"
      ]
    },
    {
      "cell_type": "code",
      "execution_count": null,
      "id": "4120bdfb-b4be-4c30-a015-bf167aa15f5e",
      "metadata": {
        "id": "4120bdfb-b4be-4c30-a015-bf167aa15f5e"
      },
      "outputs": [],
      "source": [
        "plot_loss(range(1, len(loss) + 1), loss, val_loss)\n",
        "plot_accuracy(range(1, len(loss) + 1), acc, val_acc)"
      ]
    },
    {
      "cell_type": "code",
      "execution_count": null,
      "id": "60f9fc6a-f44f-49d1-aecb-a9aa279dceb4",
      "metadata": {
        "id": "60f9fc6a-f44f-49d1-aecb-a9aa279dceb4"
      },
      "outputs": [],
      "source": [
        "y_pred = model.predict(test_flow)\n",
        "y_test = test_flow.classes"
      ]
    },
    {
      "cell_type": "code",
      "execution_count": null,
      "id": "976fb92d-39a7-4eb1-8ef4-59f5f9be1629",
      "metadata": {
        "id": "976fb92d-39a7-4eb1-8ef4-59f5f9be1629"
      },
      "outputs": [],
      "source": [
        "from sklearn import metrics\n",
        "\n",
        "print(\"ROC AUC Score:\", metrics.roc_auc_score(y_test, y_pred))\n",
        "\n",
        "print(\"AP Score:\", metrics.average_precision_score(y_test, y_pred))\n",
        "\n",
        "print(metrics.classification_report(y_test, y_pred > 0.5))\n"
      ]
    }
  ],
  "metadata": {
    "kernelspec": {
      "display_name": "Python 3 (ipykernel)",
      "language": "python",
      "name": "python3"
    },
    "language_info": {
      "codemirror_mode": {
        "name": "ipython",
        "version": 3
      },
      "file_extension": ".py",
      "mimetype": "text/x-python",
      "name": "python",
      "nbconvert_exporter": "python",
      "pygments_lexer": "ipython3",
      "version": "3.9.13"
    },
    "colab": {
      "provenance": [],
      "collapsed_sections": [],
      "private_outputs": true,
      "include_colab_link": true
    },
    "gpuClass": "standard"
  },
  "nbformat": 4,
  "nbformat_minor": 5
}